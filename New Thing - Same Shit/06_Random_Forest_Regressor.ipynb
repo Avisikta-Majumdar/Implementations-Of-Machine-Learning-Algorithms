{
 "cells": [
  {
   "cell_type": "code",
   "execution_count": 1,
   "metadata": {},
   "outputs": [],
   "source": [
    "import glob\n",
    "import warnings\n",
    "import numpy as np\n",
    "import pandas as pd\n",
    "import matplotlib.pyplot as plt\n",
    "from sklearn.ensemble import RandomForestRegressor\n",
    "\n",
    "# Declaring The graphs Inline\n",
    "%matplotlib inline\n",
    "plt.style.use('ggplot')\n",
    "\n",
    "# Removing the Filterwarnings\n",
    "warnings.filterwarnings('ignore')"
   ]
  },
  {
   "cell_type": "code",
   "execution_count": 2,
   "metadata": {},
   "outputs": [
    {
     "name": "stdout",
     "output_type": "stream",
     "text": [
      "            Position  Level  Salary\n",
      "0   Business Analyst      1   45000\n",
      "1  Junior Consultant      2   50000\n",
      "2  Senior Consultant      3   60000\n",
      "3            Manager      4   80000\n",
      "4    Country Manager      5  110000\n",
      "-------------------------------------\n",
      "         Position  Level   Salary\n",
      "5  Region Manager      6   150000\n",
      "6         Partner      7   200000\n",
      "7  Senior Partner      8   300000\n",
      "8         C-level      9   500000\n",
      "9             CEO     10  1000000\n",
      "[[ 1]\n",
      " [ 2]\n",
      " [ 3]\n",
      " [ 4]\n",
      " [ 5]\n",
      " [ 6]\n",
      " [ 7]\n",
      " [ 8]\n",
      " [ 9]\n",
      " [10]]\n",
      "[  45000   50000   60000   80000  110000  150000  200000  300000  500000\n",
      " 1000000]\n"
     ]
    }
   ],
   "source": [
    "file = glob.iglob('*.csv')\n",
    "df = pd.read_csv(*file)\n",
    "print(df.head())\n",
    "print('-------------------------------------')\n",
    "print(df.tail())\n",
    "\n",
    "# Spliting the dataframe into Dependent and Independent Variable\n",
    "X = df.iloc[:, 1:-1].values\n",
    "Y = df.iloc[:, -1].values\n",
    "\n",
    "print(X)\n",
    "print(Y)"
   ]
  },
  {
   "cell_type": "code",
   "execution_count": 12,
   "metadata": {},
   "outputs": [
    {
     "data": {
      "text/plain": [
       "RandomForestRegressor(n_estimators=10, random_state=0)"
      ]
     },
     "execution_count": 12,
     "metadata": {},
     "output_type": "execute_result"
    }
   ],
   "source": [
    "regressor = RandomForestRegressor(n_estimators = 10,\n",
    "                                 random_state = 0)\n",
    "regressor.fit(X, Y)"
   ]
  },
  {
   "cell_type": "code",
   "execution_count": 13,
   "metadata": {},
   "outputs": [
    {
     "data": {
      "text/plain": [
       "array([167000.])"
      ]
     },
     "execution_count": 13,
     "metadata": {},
     "output_type": "execute_result"
    }
   ],
   "source": [
    "regressor.predict([[6.5]])"
   ]
  },
  {
   "cell_type": "code",
   "execution_count": 14,
   "metadata": {},
   "outputs": [
    {
     "data": {
      "image/png": "[encoded data removed]",
      "text/plain": [
       "<Figure size 432x432 with 1 Axes>"
      ]
     },
     "metadata": {},
     "output_type": "display_data"
    }
   ],
   "source": [
    "# Plotting the Smooth Results\n",
    "\n",
    "figure = plt.figure(figsize = (6, 6))\n",
    "\n",
    "X_grid = np.arange(min(X), \n",
    "                   max(X), \n",
    "                   0.01)\n",
    "\n",
    "X_grid = X_grid.reshape((len(X_grid), \n",
    "                         1))\n",
    "\n",
    "plt.scatter(X, \n",
    "            Y, \n",
    "            color = 'red')\n",
    "\n",
    "plt.plot(X_grid, \n",
    "         regressor.predict(X_grid), \n",
    "         color = 'blue', \n",
    "         linewidth = 0.4)\n",
    "\n",
    "plt.title('Truth or Bluff (Random Tree Regression)')\n",
    "\n",
    "plt.xlabel('Position level')\n",
    "\n",
    "plt.ylabel('Salary')\n",
    "\n",
    "plt.show()"
   ]
  },
  {
   "cell_type": "code",
   "execution_count": null,
   "metadata": {},
   "outputs": [],
   "source": []
  },
  {
   "cell_type": "code",
   "execution_count": null,
   "metadata": {},
   "outputs": [],
   "source": []
  }
 ],
 "metadata": {
  "kernelspec": {
   "display_name": "Python 3",
   "language": "python",
   "name": "python3"
  },
  "language_info": {
   "codemirror_mode": {
    "name": "ipython",
    "version": 3
   },
   "file_extension": ".py",
   "mimetype": "text/x-python",
   "name": "python",
   "nbconvert_exporter": "python",
   "pygments_lexer": "ipython3",
   "version": "3.9.0"
  }
 },
 "nbformat": 4,
 "nbformat_minor": 4
}
