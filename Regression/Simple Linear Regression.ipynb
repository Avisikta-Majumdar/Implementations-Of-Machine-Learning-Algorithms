{
 "cells": [
  {
   "cell_type": "code",
   "execution_count": 92,
   "metadata": {},
   "outputs": [
    {
     "data": {
      "text/plain": [
       "<Figure size 576x576 with 0 Axes>"
      ]
     },
     "metadata": {},
     "output_type": "display_data"
    }
   ],
   "source": [
    "import numpy as np\n",
    "import pandas as pd\n",
    "import matplotlib.pyplot as plt\n",
    "%matplotlib inline\n",
    "plt.style.use('ggplot')\n",
    "\n",
    "import warnings\n",
    "warnings.filterwarnings('ignore')"
   ]
  },
  {
   "cell_type": "code",
   "execution_count": 7,
   "metadata": {},
   "outputs": [],
   "source": [
    "df = pd.read_csv('Salary_data.csv')"
   ]
  },
  {
   "cell_type": "code",
   "execution_count": 12,
   "metadata": {},
   "outputs": [
    {
     "data": {
      "text/html": [
       "<div>\n",
       "<style scoped>\n",
       "    .dataframe tbody tr th:only-of-type {\n",
       "        vertical-align: middle;\n",
       "    }\n",
       "\n",
       "    .dataframe tbody tr th {\n",
       "        vertical-align: top;\n",
       "    }\n",
       "\n",
       "    .dataframe thead th {\n",
       "        text-align: right;\n",
       "    }\n",
       "</style>\n",
       "<table border=\"1\" class=\"dataframe\">\n",
       "  <thead>\n",
       "    <tr style=\"text-align: right;\">\n",
       "      <th></th>\n",
       "      <th>YearsExperience</th>\n",
       "      <th>Salary</th>\n",
       "    </tr>\n",
       "  </thead>\n",
       "  <tbody>\n",
       "    <tr>\n",
       "      <th>0</th>\n",
       "      <td>1.1</td>\n",
       "      <td>39343.0</td>\n",
       "    </tr>\n",
       "    <tr>\n",
       "      <th>1</th>\n",
       "      <td>1.3</td>\n",
       "      <td>46205.0</td>\n",
       "    </tr>\n",
       "    <tr>\n",
       "      <th>2</th>\n",
       "      <td>1.5</td>\n",
       "      <td>37731.0</td>\n",
       "    </tr>\n",
       "    <tr>\n",
       "      <th>3</th>\n",
       "      <td>2.0</td>\n",
       "      <td>43525.0</td>\n",
       "    </tr>\n",
       "    <tr>\n",
       "      <th>4</th>\n",
       "      <td>2.2</td>\n",
       "      <td>39891.0</td>\n",
       "    </tr>\n",
       "  </tbody>\n",
       "</table>\n",
       "</div>"
      ],
      "text/plain": [
       "   YearsExperience   Salary\n",
       "0              1.1  39343.0\n",
       "1              1.3  46205.0\n",
       "2              1.5  37731.0\n",
       "3              2.0  43525.0\n",
       "4              2.2  39891.0"
      ]
     },
     "execution_count": 12,
     "metadata": {},
     "output_type": "execute_result"
    }
   ],
   "source": [
    "df.head()"
   ]
  },
  {
   "cell_type": "code",
   "execution_count": 13,
   "metadata": {},
   "outputs": [
    {
     "data": {
      "text/plain": [
       "(30, 2)"
      ]
     },
     "execution_count": 13,
     "metadata": {},
     "output_type": "execute_result"
    }
   ],
   "source": [
    "df.shape"
   ]
  },
  {
   "cell_type": "code",
   "execution_count": 38,
   "metadata": {},
   "outputs": [
    {
     "name": "stdout",
     "output_type": "stream",
     "text": [
      "First Dimension\n"
     ]
    },
    {
     "data": {
      "text/plain": [
       "30"
      ]
     },
     "execution_count": 38,
     "metadata": {},
     "output_type": "execute_result"
    }
   ],
   "source": [
    "print(\"First Dimension\")\n",
    "len(df)"
   ]
  },
  {
   "cell_type": "code",
   "execution_count": 33,
   "metadata": {},
   "outputs": [],
   "source": [
    "X = df.iloc[:, :-1].values\n",
    "Y = df.iloc[:, 1].values"
   ]
  },
  {
   "cell_type": "code",
   "execution_count": 35,
   "metadata": {},
   "outputs": [
    {
     "name": "stdout",
     "output_type": "stream",
     "text": [
      "Dependent Variable  \n",
      " [[ 1.1]\n",
      " [ 1.3]\n",
      " [ 1.5]\n",
      " [ 2. ]\n",
      " [ 2.2]\n",
      " [ 2.9]\n",
      " [ 3. ]\n",
      " [ 3.2]\n",
      " [ 3.2]\n",
      " [ 3.7]\n",
      " [ 3.9]\n",
      " [ 4. ]\n",
      " [ 4. ]\n",
      " [ 4.1]\n",
      " [ 4.5]\n",
      " [ 4.9]\n",
      " [ 5.1]\n",
      " [ 5.3]\n",
      " [ 5.9]\n",
      " [ 6. ]\n",
      " [ 6.8]\n",
      " [ 7.1]\n",
      " [ 7.9]\n",
      " [ 8.2]\n",
      " [ 8.7]\n",
      " [ 9. ]\n",
      " [ 9.5]\n",
      " [ 9.6]\n",
      " [10.3]\n",
      " [10.5]] of <class 'numpy.ndarray'>\n",
      "\n",
      " Independent Variable  \n",
      " [ 39343.  46205.  37731.  43525.  39891.  56642.  60150.  54445.  64445.\n",
      "  57189.  63218.  55794.  56957.  57081.  61111.  67938.  66029.  83088.\n",
      "  81363.  93940.  91738.  98273. 101302. 113812. 109431. 105582. 116969.\n",
      " 112635. 122391. 121872.] of <class 'numpy.ndarray'>\n"
     ]
    }
   ],
   "source": [
    "print(\"Dependent Variable  \\n {0} of {1}\".format(X, type(X)))\n",
    "print(\"\\n Independent Variable  \\n {0} of {1}\".format(Y, type(Y)))"
   ]
  },
  {
   "cell_type": "code",
   "execution_count": 53,
   "metadata": {},
   "outputs": [],
   "source": [
    "from sklearn.model_selection import train_test_split\n",
    "X_train, X_test, Y_train, Y_test = train_test_split(X, Y, test_size = 1/3, random_state = 41)"
   ]
  },
  {
   "cell_type": "code",
   "execution_count": 54,
   "metadata": {},
   "outputs": [
    {
     "name": "stdout",
     "output_type": "stream",
     "text": [
      "(20, 1)\n",
      "(10, 1)\n",
      "(20,)\n",
      "(10,)\n"
     ]
    }
   ],
   "source": [
    "print(X_train.shape)\n",
    "print(X_test.shape)\n",
    "print(Y_train.shape)\n",
    "print(Y_test.shape)"
   ]
  },
  {
   "cell_type": "code",
   "execution_count": 55,
   "metadata": {},
   "outputs": [
    {
     "data": {
      "text/plain": [
       "LinearRegression(copy_X=True, fit_intercept=True, n_jobs=1, normalize=False)"
      ]
     },
     "execution_count": 55,
     "metadata": {},
     "output_type": "execute_result"
    }
   ],
   "source": [
    "from sklearn.linear_model import LinearRegression\n",
    "regressor = LinearRegression()\n",
    "regressor.fit(X_train, Y_train)"
   ]
  },
  {
   "cell_type": "code",
   "execution_count": 58,
   "metadata": {},
   "outputs": [],
   "source": [
    "Y_pred = regressor.predict(X_test)"
   ]
  },
  {
   "cell_type": "code",
   "execution_count": 76,
   "metadata": {},
   "outputs": [
    {
     "name": "stdout",
     "output_type": "stream",
     "text": [
      "Coefficients:\n",
      " [9421.56759733]\n"
     ]
    }
   ],
   "source": [
    "print('Coefficients:\\n', regressor.coef_)"
   ]
  },
  {
   "cell_type": "code",
   "execution_count": 77,
   "metadata": {},
   "outputs": [
    {
     "name": "stdout",
     "output_type": "stream",
     "text": [
      "The Mean Squared Error is: 19093111.38\n",
      "Variance Score: 0.97\n"
     ]
    }
   ],
   "source": [
    "from sklearn.metrics import mean_squared_error, r2_score\n",
    "print(\"The Mean Squared Error is: %.2f\" % mean_squared_error(Y_test, Y_pred))\n",
    "print(\"Variance Score: %.2f\" % r2_score(Y_test, Y_pred))"
   ]
  },
  {
   "cell_type": "code",
   "execution_count": 102,
   "metadata": {},
   "outputs": [
    {
     "data": {
      "text/plain": [
       "Text(0,0.5,'Experience')"
      ]
     },
     "execution_count": 102,
     "metadata": {},
     "output_type": "execute_result"
    },
    {
     "data": {
      "image/png": "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\n",
      "text/plain": [
       "<Figure size 432x432 with 1 Axes>"
      ]
     },
     "metadata": {},
     "output_type": "display_data"
    }
   ],
   "source": [
    "figure = plt.figure(figsize=(6, 6))\n",
    "plt.scatter(X_train, Y_train, color = \"red\")\n",
    "plt.plot(X_train, regressor.predict(X_train), color = 'blue', linewidth = 1)\n",
    "plt.title(\"SLR on Training set\")\n",
    "plt.xlabel(\"Salary\")\n",
    "plt.ylabel(\"Experience\")"
    "plt.grid(\True\)"
   ]
  },
  {
   "cell_type": "code",
   "execution_count": 101,
   "metadata": {},
   "outputs": [
    {
     "data": {
      "text/plain": [
       "Text(0,0.5,'Experience')"
      ]
     },
     "execution_count": 101,
     "metadata": {},
     "output_type": "execute_result"
    },
    {
     "data": {
      "image/png": "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\n",
      "text/plain": [
       "<Figure size 432x360 with 1 Axes>"
      ]
     },
     "metadata": {},
     "output_type": "display_data"
    }
   ],
   "source": [
    "figure = plt.figure(figsize=(6,5))\n",
    "plt.scatter(X_test, Y_test, color = \"red\")\n",
    "plt.plot(X_train, regressor.predict(X_train), color = 'blue', linewidth = 1)\n",
    "plt.title(\"SLR on Test set\")\n",
    "plt.xlabel(\"Salary\")\n",
    "plt.ylabel(\"Experience\")"
    "plt.grid(\True\)"
   ]
  },
  {
   "cell_type": "code",
   "execution_count": null,
   "metadata": {},
   "outputs": [],
   "source": []
  }
 ],
 "metadata": {
  "kernelspec": {
   "display_name": "Python 3",
   "language": "python",
   "name": "python3"
  },
  "language_info": {
   "codemirror_mode": {
    "name": "ipython",
    "version": 3
   },
   "file_extension": ".py",
   "mimetype": "text/x-python",
   "name": "python",
   "nbconvert_exporter": "python",
   "pygments_lexer": "ipython3",
   "version": "3.6.5"
  }
 },
 "nbformat": 4,
 "nbformat_minor": 2
}
